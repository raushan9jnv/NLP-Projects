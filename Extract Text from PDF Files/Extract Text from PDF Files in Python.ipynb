{
 "cells": [
  {
   "cell_type": "code",
   "execution_count": 26,
   "id": "1976c652",
   "metadata": {},
   "outputs": [
    {
     "name": "stdout",
     "output_type": "stream",
     "text": [
      "Requirement already satisfied: PyPDF2 in c:\\users\\kaushal kumar\\anaconda3\\lib\\site-packages (1.26.0)\n"
     ]
    }
   ],
   "source": [
    "!pip install PyPDF2"
   ]
  },
  {
   "cell_type": "code",
   "execution_count": 27,
   "id": "c4fa8523",
   "metadata": {},
   "outputs": [],
   "source": [
    "import PyPDF2 as pdf"
   ]
  },
  {
   "cell_type": "code",
   "execution_count": 28,
   "id": "4d354a90",
   "metadata": {},
   "outputs": [],
   "source": [
    "file = open('NLP.pdf','rb')"
   ]
  },
  {
   "cell_type": "code",
   "execution_count": 29,
   "id": "8f6ec571",
   "metadata": {},
   "outputs": [
    {
     "data": {
      "text/plain": [
       "<_io.BufferedReader name='NLP.pdf'>"
      ]
     },
     "execution_count": 29,
     "metadata": {},
     "output_type": "execute_result"
    }
   ],
   "source": [
    "file"
   ]
  },
  {
   "cell_type": "code",
   "execution_count": 30,
   "id": "c65a5638",
   "metadata": {},
   "outputs": [],
   "source": [
    "pdf_reader = pdf.PdfFileReader(file)"
   ]
  },
  {
   "cell_type": "code",
   "execution_count": 31,
   "id": "6bf18912",
   "metadata": {},
   "outputs": [
    {
     "data": {
      "text/plain": [
       "False"
      ]
     },
     "execution_count": 31,
     "metadata": {},
     "output_type": "execute_result"
    }
   ],
   "source": [
    "pdf_reader.getIsEncrypted()"
   ]
  },
  {
   "cell_type": "code",
   "execution_count": 32,
   "id": "08584da6",
   "metadata": {},
   "outputs": [
    {
     "data": {
      "text/plain": [
       "34"
      ]
     },
     "execution_count": 32,
     "metadata": {},
     "output_type": "execute_result"
    }
   ],
   "source": [
    "pdf_reader.getNumPages()"
   ]
  },
  {
   "cell_type": "code",
   "execution_count": 33,
   "id": "08559baa",
   "metadata": {},
   "outputs": [],
   "source": [
    "page1 = pdf_reader.getPage(0)"
   ]
  },
  {
   "cell_type": "code",
   "execution_count": 34,
   "id": "c5af05a4",
   "metadata": {},
   "outputs": [
    {
     "data": {
      "text/plain": [
       "'NaturalLanguageProcessing:part1oflecturenotes2003,8LecturesAnnCopestake(aac@cl.cam.ac.uk)http://www.cl.cam.ac.uk/users/aac/\\nCopyrightcAnnCopestake,2002LectureSynopsisAims\\nThiscourseaimstointroducethefundamentaltechniquesofnaturallanguageprocessing,todevelopanunderstandingofthelimitsofthosetechniquesandofcurrentresearchissues,andevaluatesomecurrentandpotentialapplications.Introduction.BriefhistoryofNLPresearch,currentapplications,genericNLPsystemarchitecture,knowledge-basedversusprobabilisticapproaches.Finitestatetechniques.andderivationalmorphology,automatainNLP,transducers.Predictionandpart-of-speechtagging.Corpora,simpleN-grams,wordprediction,stochastictagging,evalu-atingsystemperformance.ParsingandgenerationI.Generativegrammar,context-freegrammars,parsingandgenerationwithcontext-freegrammars,weightsandprobabilities.ParsingandgenerationII.Constraint-basedgrammar,simplecompositionalsemantics.Lexicalsemantics.Semanticrelations,WordNet,wordsenses,wordsensedisambiguation.Discourse.Anaphoraresolution,discourserelations.Applications.Machinetranslation,emailresponse,spokendialoguesystems.1'"
      ]
     },
     "execution_count": 34,
     "metadata": {},
     "output_type": "execute_result"
    }
   ],
   "source": [
    "page1.extractText()"
   ]
  },
  {
   "cell_type": "code",
   "execution_count": 35,
   "id": "b14178b4",
   "metadata": {},
   "outputs": [],
   "source": [
    "page2 = pdf_reader.getPage(1)"
   ]
  },
  {
   "cell_type": "code",
   "execution_count": 36,
   "id": "0f948338",
   "metadata": {},
   "outputs": [
    {
     "data": {
      "text/plain": [
       "\"ObjectivesAttheendofthecoursestudentsshould:beabletodescribethearchitectureofandbasicdesignforagenericNLPsystem`shell'beabletodiscussthecurrentandlikelyfutureperformanceofseveralNLPapplications,suchasmachinetranslationandemailresponsebeabletodescribeafundamentaltechniqueforprocessinglanguageforseveralsubtasks,suchasmor-phologicalanalysis,syntacticparsing,wordsensedisambiguationetc(asindicatedinthelecturesynopses).understandhowthesetechniquesdrawonandrelatetootherareasof(theoretical)computerscience,suchasformallanguagetheory,formalsemanticsofprogramminglanguages,ortheoremproving.NLPisalargeandmultidisciplinarysothiscoursecanonlyprovideaverygeneralintroduction.Thelectureisdesignedtogiveanoverviewofthemainsubareasandaverybriefideaofthemainapplicationsandthemethodologieswhichhavebeenemployed.ThehistoryofNLPisdiscussedasawayofputtingthisintoperspective.Thenextsixlecturesdescribesomeofthemainsubareasinmoredetail.Theorganisationisroughlybasedonincreased`depth'ofprocessing,startingwithrelativelysurface-orientedtechniquesandprogressingtoconsideringmeaningofsentencesandmeaningofutterancesincontext.Eachlecturewillconsiderthesubareaasawholeandthengoontodescribeoneormoresamplealgorithmswhichtackleparticularproblems.Thealgorithmshavebeenchosenbecausetheyarerelativelystraightforwardtodescribeandbecausetheyillustrateatechniquewhichhasbeenshowntobeuseful,buttheideaistoexemplifyanapproach,nottogiveadetailedsurvey(whichwouldbeimpossibleinthetimeavailable).However,otherapproacheswillsometimesbediscussed.Thelecturebringstheprecedingmaterialtogetherinordertodescribethestateoftheartinthreesampleapplications.Therearevariousthemesrunningthroughoutthelectures.OnethemeistheconnectiontolinguisticsandthetensionthatsometimesexistsbetweenthepredominantviewintheoreticallinguisticsandtheapproachesadoptedwithinNLP.Asomewhatrelatedthemeisthedistinctionbetweenknowledge-basedandprobabilisticapproaches.Evaluationwillbediscussedinthecontextofthedifferentalgorithms.BecauseNLPissuchalargearea,therearemanytopicsthataren'ttouchedonatallintheselectures.Speechrecognitionandspeechsynthesisisalmosttotallyignored.InformationretrievalandinformationextractionarethetopicofaseparatecoursegivenbySimoneTeufel,forwhichthiscourseisaprerequisite.SincethisisthetimeI'vegiventhiscourse,thehandouthasbeenlargelywrittenfromscratchandnodoubtcontainsmanytypos,bugs,infelicitiesandincomprehensiblebits.Feedbackwouldbegreatlyappreciated.RecommendedReadingBackground:\\nPinker,S.,TheLanguageInstinct,Penguin,1994.Thisisathought-provokingandsometimescontroversial`popular'introductiontolinguistics.AlthoughtheNLPlecturesdon'tassumeanyexposuretolinguistics,thecoursewillbeeasiertofollowifstudentshavesomeideaofthelinguisticnotionofagrammar,forinstance.RecommendedBook:Jurafsky,DanielandJamesMartin,SpeechandLanguageProcessing,Prentice-Hall,2000(referencedasJ&Mthrough-outthishandout).2\""
      ]
     },
     "execution_count": 36,
     "metadata": {},
     "output_type": "execute_result"
    }
   ],
   "source": [
    "page2.extractText()"
   ]
  },
  {
   "cell_type": "markdown",
   "id": "74a4e761",
   "metadata": {},
   "source": [
    "### Append Write or Merge PDFs"
   ]
  },
  {
   "cell_type": "code",
   "execution_count": 37,
   "id": "6d32ec39",
   "metadata": {},
   "outputs": [],
   "source": [
    "pdf_writer = pdf. PdfFileWriter()"
   ]
  },
  {
   "cell_type": "code",
   "execution_count": 38,
   "id": "08f12109",
   "metadata": {},
   "outputs": [],
   "source": [
    "pdf_writer.addPage(page1)\n",
    "pdf_writer.addPage(page2)"
   ]
  },
  {
   "cell_type": "code",
   "execution_count": 39,
   "id": "2ada29cf",
   "metadata": {},
   "outputs": [],
   "source": [
    "output = open('Pages.pdf','wb')\n",
    "pdf_writer.write(output)\n",
    "output.close()"
   ]
  }
 ],
 "metadata": {
  "kernelspec": {
   "display_name": "Python 3",
   "language": "python",
   "name": "python3"
  },
  "language_info": {
   "codemirror_mode": {
    "name": "ipython",
    "version": 3
   },
   "file_extension": ".py",
   "mimetype": "text/x-python",
   "name": "python",
   "nbconvert_exporter": "python",
   "pygments_lexer": "ipython3",
   "version": "3.8.8"
  }
 },
 "nbformat": 4,
 "nbformat_minor": 5
}
